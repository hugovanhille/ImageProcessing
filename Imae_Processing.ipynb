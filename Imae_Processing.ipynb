{
 "cells": [
  {
   "cell_type": "code",
   "execution_count": 238,
   "id": "e9c46540",
   "metadata": {},
   "outputs": [
    {
     "name": "stderr",
     "output_type": "stream",
     "text": [
      "C:\\Users\\vande\\AppData\\Local\\Temp\\ipykernel_6268\\2246616460.py:13: RuntimeWarning: overflow encountered in ubyte_scalars\n",
      "  sum = sum + abs(imageA[x,y]*imageA[x,y])\n"
     ]
    }
   ],
   "source": [
    "import glob\n",
    "import cv2 as cv\n",
    "import numpy as np\n",
    "import random\n",
    "import skimage\n",
    "from PIL import Image, ImageFilter\n",
    "import pandas as pd\n",
    "import math\n",
    "\n",
    "\n",
    "def main(function):\n",
    "    Image=[]\n",
    "    Noise=[]\n",
    "    ratio = 0.2 #ratio for the combined filter.\n",
    "    Denoise=[]\n",
    "    Error_RMSE=[]\n",
    "    Error_NRMSE=[]\n",
    "    Error_SNR=[]\n",
    "    Error_PSNR=[]\n",
    "    for i in range(1,11):\n",
    "        if(i<10):\n",
    "            path=glob.glob(\"Img/Sample00\"+str(i)+\"/img00\"+str(i)+\"-001.png\")\n",
    "        else:\n",
    "            path=glob.glob(\"Img/Sample0\"+str(i)+\"/img0\"+str(i)+\"-001.png\")\n",
    "        for img in path:\n",
    "            n = cv.imread(img,0)\n",
    "            Image.append(n)\n",
    "            noise_image=skimage.util.random_noise(n, mode='gaussian', mean=0.3,seed=None, clip=True)\n",
    "            noise_image=skimage.util.random_noise(n, mode='pepper', amount=0.1,seed=None, clip=True)\n",
    "            Noise.append(noise_image)\n",
    "            denoise_image = filter_image(noise_image,function)\n",
    "            denoise_image = denoise_image[1:901, 1:1201]\n",
    "            for row in range(denoise_image.shape[0]):\n",
    "                for column in range(denoise_image.shape[1]):\n",
    "                    denoise_image[row,column]=denoise_image[row,column]*255\n",
    "            Denoise.append(denoise_image)\n",
    "            err=MSE(denoise_image,n)\n",
    "            err=np.sqrt(err)\n",
    "            Error_RMSE.append(err)\n",
    "            err2=NRMSE(n,err)\n",
    "            Error_NRMSE.append(err2)\n",
    "            err3=SNR(err2)\n",
    "            Error_SNR.append(err3)\n",
    "            err4=PSNR(n,err)\n",
    "            Error_PSNR.append(err4)\n",
    "    \n",
    "    Image = np.array(Image) \n",
    "    Noise=np.array(Noise)\n",
    "    Denoise=np.array(Denoise)\n",
    "    Error_RMSE=np.array(Error_RMSE)\n",
    "    Error_NRMSE=np.array(Error_NRMSE)\n",
    "    Error_SNR=np.array(Error_SNR)\n",
    "    Error_PSNR=np.array(Error_PSNR)\n",
    "    return Error_RMSE,Error_NRMSE,Error_SNR,Error_PSNR\n",
    "\n",
    "a,b,c,d=main(median_filter)"
   ]
  },
  {
   "cell_type": "code",
   "execution_count": 239,
   "id": "8309dd95",
   "metadata": {},
   "outputs": [
    {
     "name": "stdout",
     "output_type": "stream",
     "text": [
      "[4.91012966 3.57487031 5.36392622 4.51272618 4.31188813 5.56712136\n",
      " 4.71117322 4.71499979 4.45255713 4.28239716]\n"
     ]
    }
   ],
   "source": [
    "print(b)"
   ]
  },
  {
   "cell_type": "code",
   "execution_count": 240,
   "id": "3d865012",
   "metadata": {},
   "outputs": [
    {
     "name": "stderr",
     "output_type": "stream",
     "text": [
      "C:\\Users\\vande\\AppData\\Local\\Temp\\ipykernel_6268\\2246616460.py:13: RuntimeWarning: overflow encountered in ubyte_scalars\n",
      "  sum = sum + abs(imageA[x,y]*imageA[x,y])\n"
     ]
    }
   ],
   "source": [
    "e,f,g,h=main(mean_filter)"
   ]
  },
  {
   "cell_type": "code",
   "execution_count": 242,
   "id": "030a9e14",
   "metadata": {},
   "outputs": [
    {
     "name": "stderr",
     "output_type": "stream",
     "text": [
      "C:\\Users\\vande\\AppData\\Local\\Temp\\ipykernel_6268\\2246616460.py:13: RuntimeWarning: overflow encountered in ubyte_scalars\n",
      "  sum = sum + abs(imageA[x,y]*imageA[x,y])\n"
     ]
    }
   ],
   "source": [
    "i,j,k,l=main(combined_filter)"
   ]
  },
  {
   "cell_type": "code",
   "execution_count": 245,
   "id": "de695eba",
   "metadata": {},
   "outputs": [
    {
     "data": {
      "image/png": "[encoded data removed]",
      "text/plain": [
       "<Figure size 432x288 with 1 Axes>"
      ]
     },
     "metadata": {
      "needs_background": "light"
     },
     "output_type": "display_data"
    }
   ],
   "source": [
    "x = range(0,10)\n",
    "plt.plot(x, b,label=\"median filter\")\n",
    "plt.plot(x, f,label=\"mean filter\")\n",
    "plt.plot(x, j,label=\"combined filter\")\n",
    "plt.legend()\n",
    "plt.title('Functions')\n",
    "plt.grid(True)\n",
    "plt.show()"
   ]
  },
  {
   "cell_type": "code",
   "execution_count": 251,
   "id": "72111608",
   "metadata": {},
   "outputs": [
    {
     "name": "stdout",
     "output_type": "stream",
     "text": [
      "[4.640178913998267, 67.37068834175733, 15.297673086897401]\n"
     ]
    }
   ],
   "source": [
    "x=np.mean(b,0)\n",
    "y=np.mean(f,0)\n",
    "z=np.mean(j,0)\n",
    "s=[x,y,z]\n",
    "print(s)"
   ]
  },
  {
   "cell_type": "code",
   "execution_count": 233,
   "id": "d6b5a0eb",
   "metadata": {},
   "outputs": [],
   "source": [
    "def MSE(imageA ,imageB):\n",
    "    sum = 0.0\n",
    "    for x in range(imageA.shape[0]):\n",
    "        for y in range(imageA.shape[1]):\n",
    "            difference = abs(imageA[x,y] - imageB[x,y])\n",
    "            sum = sum + difference*difference\n",
    "    mse = sum /(imageA.shape[0]*imageA.shape[1])\n",
    "    return mse \n",
    "def NRMSE(imageA,RMSE):\n",
    "    sum = 0.0\n",
    "    for x in range(imageA.shape[0]):\n",
    "        for y in range(imageA.shape[1]):\n",
    "            sum = sum + abs(imageA[x,y]*imageA[x,y])\n",
    "    nrmse = sum /(imageA.shape[0]*imageA.shape[1])\n",
    "    nrmse=np.sqrt(nrmse)\n",
    "    return RMSE/nrmse \n",
    "\n",
    "def SNR(NRMSE):\n",
    "    snr=[]\n",
    "    for i in range (3):\n",
    "        n=20*math.log10(NRMSE)\n",
    "        snr.append(n)\n",
    "    return snr\n",
    "\n",
    "def PSNR(imageA,RMSE):\n",
    "    max=0\n",
    "    psnr=[]\n",
    "    for x in range(imageA.shape[0]):\n",
    "        for y in range(imageA.shape[1]):\n",
    "            if(abs(imageA[x,y])>max):\n",
    "                max=abs(imageA[x,y])\n",
    "        n=20*math.log10(max/RMSE)\n",
    "        psnr.append(n)\n",
    "    return psnr"
   ]
  },
  {
   "cell_type": "code",
   "execution_count": 207,
   "id": "c6366ce0",
   "metadata": {},
   "outputs": [],
   "source": [
    "def PSNR(imageA ,imageB,RMSE):\n",
    "    sum = 0.0\n",
    "    for x in range(imageA.shape[0]):\n",
    "        for y in range(imageA.shape[1]):\n",
    "            difference = (imageA[x,y] - imageB[x,y])\n",
    "            sum = sum + difference*difference\n",
    "    mse = sum /(imageA.shape[0]*imageA.shape[1])\n",
    "    return mse "
   ]
  },
  {
   "cell_type": "code",
   "execution_count": 118,
   "id": "931b5c58",
   "metadata": {},
   "outputs": [],
   "source": [
    "def get_kernel(): # the declaration of the kernel for the mean filter.\n",
    "    return np.array([[0.1, 0.1, 0.1], [0.1, 0.1, 0.1], [0.1, 0.1, 0.1]])\n",
    "\n",
    "def mean_filter(image, height, width): #function of the mean filter.\n",
    "    kernel = get_kernel()\n",
    "    for row in range(1, height + 1):\n",
    "        for column in range(1, width + 1):\n",
    "            # We get the area to be filtered with range indexing.\n",
    "            area = image[row - 1:row + 2, column - 1:column + 2]\n",
    "            image[row][column] = np.sum(np.multiply(kernel,area))\n",
    "    return image\n",
    "\n",
    "def median_filter(image, height, width): #function of the median filter.\n",
    "    for row in range(1, height + 1):\n",
    "        for column in range(1, width + 1):\n",
    "            area = image[row - 1:row + 2, column - 1:column + 2]\n",
    "            image[row][column] = np.median(area)\n",
    "    return image\n",
    "\n",
    "def combined_filter(image, height, width): #function of the combined filter with the ratio for the median and mean filter.\n",
    "    for row in range(1, height + 1):\n",
    "        for column in range(1, width + 1):\n",
    "            area = image[row - 1:row + 2, column - 1:column + 2]\n",
    "            mean_filter = np.sum(np.multiply(get_kernel(),area))\n",
    "            median_filter = np.median(area)\n",
    "            image[row][column] = ratio * mean_filter + (1 - ratio) * median_filter\n",
    "    return image\n",
    "\n",
    "def filter_image(image,filtering_function):\n",
    "    # We need the image size for the kernel looping.\n",
    "    height, width = image.shape[:2]\n",
    "\n",
    "    # We add 1px to allow kernels to work properly.\n",
    "    image = cv.copyMakeBorder(image, 1, 1, 1, 1, cv.BORDER_REFLECT)\n",
    "    res = filtering_function(image, height, width)\n",
    "    return res"
   ]
  }
 ],
 "metadata": {
  "kernelspec": {
   "display_name": "Python 3 (ipykernel)",
   "language": "python",
   "name": "python3"
  },
  "language_info": {
   "codemirror_mode": {
    "name": "ipython",
    "version": 3
   },
   "file_extension": ".py",
   "mimetype": "text/x-python",
   "name": "python",
   "nbconvert_exporter": "python",
   "pygments_lexer": "ipython3",
   "version": "3.9.12"
  }
 },
 "nbformat": 4,
 "nbformat_minor": 5
}
