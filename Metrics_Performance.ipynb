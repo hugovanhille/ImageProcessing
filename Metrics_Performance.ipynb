{
 "cells": [
  {
   "cell_type": "code",
   "execution_count": 342,
   "id": "e9c46540",
   "metadata": {},
   "outputs": [],
   "source": [
    "#import libraries\n",
    "import glob\n",
    "import cv2 as cv\n",
    "import numpy as np\n",
    "import random\n",
    "from PIL import Image, ImageFilter\n",
    "import pandas as pd\n",
    "import math\n",
    "from skimage import io\n",
    "import matplotlib.pyplot as plt\n",
    "from scipy import fftpack\n",
    "from skimage.restoration import denoise_wavelet, cycle_spin\n",
    "from skimage.util import random_noise\n",
    "\n",
    "def main(function_filter,filter_class): #function with the name of the filter and the class \n",
    "    #(0= Mean/Median/Combined,1=Low Pass and other is Wavelet).\n",
    "    Image=[]\n",
    "    Noise=[]\n",
    "    ratio = 0.2 #ratio for the combined filter.\n",
    "    Denoise=[]\n",
    "    Error_RMSE=[]\n",
    "    Error_NRMSE=[]\n",
    "    Error_SNR=[]\n",
    "    Error_PSNR=[]\n",
    "    for i in range(1,11):\n",
    "        if(i<10):#Take the path of the images\n",
    "            path=glob.glob(\"Img/Sample00\"+str(i)+\"/img00\"+str(i)+\"-001.png\")\n",
    "        else:\n",
    "            path=glob.glob(\"Img/Sample0\"+str(i)+\"/img0\"+str(i)+\"-001.png\")\n",
    "        for img in path:\n",
    "            n = cv.imread(img,0)\n",
    "            Image.append(n)\n",
    "            if(filter_class==0):#We add the noise and then denoise the image and remove the border\n",
    "                noise_image=skimage.util.random_noise(n, mode='gaussian', mean=0.3,seed=None, clip=True)\n",
    "                noise_image=skimage.util.random_noise(n, mode='pepper', amount=0.1,seed=None, clip=True)\n",
    "                Noise.append(noise_image)\n",
    "                denoise_image = filter_image(noise_image,function_filter)\n",
    "                denoise_image = denoise_image[1:901, 1:1201]\n",
    "            elif(filter_class==1): #We add the noise and then denoise\n",
    "                noise_image=skimage.util.random_noise(n, mode='gaussian', mean=0.3,seed=None, clip=True)\n",
    "                noise_image=skimage.util.random_noise(n, mode='pepper', amount=0.1,seed=None, clip=True)\n",
    "                Noise.append(noise_image)\n",
    "                denoise_image =LowPass_Filter(noise_image)\n",
    "            else: #We use the wavelet filter and add a special noise\n",
    "                noise_image,denoise_image=wavelet(n)\n",
    "                Noise.append(noise_image)\n",
    "            for row in range(denoise_image.shape[0]):\n",
    "                for column in range(denoise_image.shape[1]):\n",
    "                    denoise_image[row,column]=denoise_image[row,column]*255\n",
    "            Denoise.append(denoise_image)\n",
    "            err=MSE(denoise_image,n)\n",
    "            err=np.sqrt(err) #We compute the RMSE\n",
    "            Error_RMSE.append(err)\n",
    "            err2=NRMSE(n,err)\n",
    "            Error_NRMSE.append(err2)\n",
    "            err3=SNR(err2)\n",
    "            Error_SNR.append(err3)\n",
    "            err4=PSNR(n,err)\n",
    "            Error_PSNR.append(err4)\n",
    "    \n",
    "    Image = np.array(Image) \n",
    "    Noise=np.array(Noise)\n",
    "    Denoise=np.array(Denoise)\n",
    "    Error_RMSE=np.array(Error_RMSE)\n",
    "    Error_NRMSE=np.array(Error_NRMSE)\n",
    "    Error_SNR=np.array(Error_SNR)\n",
    "    Error_PSNR=np.array(Error_PSNR)\n",
    "    return Image,Denoise,Error_RMSE,Error_NRMSE,Error_SNR,Error_PSNR\n",
    "\n"
   ]
  },
  {
   "cell_type": "code",
   "execution_count": 343,
   "id": "769c29b1",
   "metadata": {},
   "outputs": [],
   "source": [
    "def MSE(imageA ,imageB): #this function compute the Mean Square Error\n",
    "    sum = 0.0\n",
    "    for x in range(imageA.shape[0]):\n",
    "        for y in range(imageA.shape[1]):\n",
    "            difference = abs(imageA[x,y] - imageB[x,y])\n",
    "            sum = sum + difference*difference\n",
    "    mse = sum /(imageA.shape[0]*imageA.shape[1])\n",
    "    return mse \n",
    "def NRMSE(imageA,RMSE):#this function compute the Normalize Mean Square Error\n",
    "    sum = 0.0\n",
    "    for x in range(imageA.shape[0]):\n",
    "        for y in range(imageA.shape[1]):\n",
    "            sum = sum + abs(pow(imageA[x,y], 2))\n",
    "    nrmse = sum /(imageA.shape[0]*imageA.shape[1])\n",
    "    nrmse=np.sqrt(nrmse)\n",
    "    return RMSE/nrmse \n",
    "\n",
    "def SNR(NRMSE):#this function compute the Signal-to-Noise Ratio\n",
    "    n=20*math.log10(NRMSE)\n",
    "    return n\n",
    "\n",
    "def PSNR(imageA,RMSE):#this function compute the Peak Signal-to-Noise Ratio\n",
    "    max=0\n",
    "    for x in range(imageA.shape[0]):\n",
    "        for y in range(imageA.shape[1]):\n",
    "            if(abs(imageA[x,y])>max):\n",
    "                max=abs(imageA[x,y])\n",
    "    n=20*math.log10(max/RMSE)\n",
    "    return n"
   ]
  },
  {
   "cell_type": "code",
   "execution_count": 344,
   "id": "91eb7800",
   "metadata": {},
   "outputs": [],
   "source": [
    "def get_kernel(): # the declaration of the kernel for the mean filter.\n",
    "    return np.array([[0.1, 0.1, 0.1], [0.1, 0.1, 0.1], [0.1, 0.1, 0.1]])\n",
    "\n",
    "def mean_filter(image, height, width): #function of the mean filter.\n",
    "    kernel = get_kernel()\n",
    "    for row in range(1, height + 1):\n",
    "        for column in range(1, width + 1):\n",
    "            # We get the area to be filtered with range indexing.\n",
    "            area = image[row - 1:row + 2, column - 1:column + 2]\n",
    "            image[row][column] = np.sum(np.multiply(kernel,area))\n",
    "    return image\n",
    "\n",
    "def median_filter(image, height, width): #function of the median filter.\n",
    "    for row in range(1, height + 1):\n",
    "        for column in range(1, width + 1):\n",
    "            area = image[row - 1:row + 2, column - 1:column + 2]\n",
    "            image[row][column] = np.median(area)\n",
    "    return image\n",
    "\n",
    "def combined_filter(image, height, width): #function of the combined filter with the ratio for the median and mean filter.\n",
    "    for row in range(1, height + 1):\n",
    "        for column in range(1, width + 1):\n",
    "            area = image[row - 1:row + 2, column - 1:column + 2]\n",
    "            mean_filter = np.sum(np.multiply(get_kernel(),area))\n",
    "            median_filter = np.median(area)\n",
    "            image[row][column] = ratio * mean_filter + (1 - ratio) * median_filter\n",
    "    return image\n",
    "\n",
    "def filter_image(image,filtering_function):\n",
    "    # We need the image size for the kernel looping.\n",
    "    height, width = image.shape[:2]\n",
    "\n",
    "    # We add 1px to allow kernels to work properly.\n",
    "    image = cv.copyMakeBorder(image, 1, 1, 1, 1, cv.BORDER_REFLECT)\n",
    "    res = filtering_function(image, height, width)\n",
    "    return res"
   ]
  },
  {
   "cell_type": "code",
   "execution_count": 345,
   "id": "e83fc9fa",
   "metadata": {},
   "outputs": [],
   "source": [
    "def LowPass_Filter(image):\n",
    "    M,N = image.shape\n",
    "    \n",
    "    #Compute discrete Fourier transform.\n",
    "    F = fftpack.fftn(image) \n",
    "    F_magnitude = np.abs(F)   \n",
    "    \n",
    "    #shift frequency component\n",
    "    F_magnitude = fftpack.fftshift(F_magnitude)\n",
    "    \n",
    "    # Low pass filter the frequency\n",
    "    K = 30\n",
    "    F_magnitude[M // 2 - K: M // 2 + K, N // 2 - K: N // 2 + K] = 0\n",
    "    peaks = F_magnitude > np.percentile(F_magnitude, 98) #for 98 percentile\n",
    "    \n",
    "    # Shift peaks back to original position\n",
    "    peaks = fftpack.ifftshift(peaks) \n",
    "\n",
    "    # Make a copy of the original spectrum\n",
    "    F_dim = F.copy() \n",
    "\n",
    "    # Set those peak coefficients to zero\n",
    "    F_dim = F_dim * peaks.astype(int) \n",
    "\n",
    "    # Inverse fourier transform\n",
    "    image_filtered = np.real(fftpack.ifft2(F_dim)) \n",
    "    return image_filtered"
   ]
  },
  {
   "cell_type": "code",
   "execution_count": 346,
   "id": "bad48078",
   "metadata": {},
   "outputs": [],
   "source": [
    "def wavelet(image):\n",
    "    image=skimage.img_as_float(image)\n",
    "\n",
    "    #Add noise to image\n",
    "    noisy = random_noise(image, mean=0.3)\n",
    "\n",
    "    #denoise images\n",
    "    denoise_kwargs = dict(channel_axis=None, wavelet='db1',rescale_sigma=True)\n",
    "    im_bayescs = cycle_spin(noisy, func=denoise_wavelet, max_shifts=3,func_kw=denoise_kwargs, channel_axis=None)\n",
    "    return noisy,im_bayescs"
   ]
  },
  {
   "cell_type": "code",
   "execution_count": 347,
   "id": "03013a7a",
   "metadata": {},
   "outputs": [],
   "source": [
    "im,denoise,a,b,c,d=main(median_filter,0)"
   ]
  },
  {
   "cell_type": "code",
   "execution_count": 348,
   "id": "b7d33ec4",
   "metadata": {},
   "outputs": [],
   "source": [
    "im2,denoise2,e,f,g,h=main(mean_filter,0)"
   ]
  },
  {
   "cell_type": "code",
   "execution_count": null,
   "id": "a48ed663",
   "metadata": {},
   "outputs": [],
   "source": [
    "im3,denoise3,i,j,k,l=main(combined_filter,0)"
   ]
  },
  {
   "cell_type": "code",
   "execution_count": 337,
   "id": "ae4f7cd9",
   "metadata": {},
   "outputs": [],
   "source": [
    "im4,denoise4,A,B,C,D=main(LowPass_Filter,1)"
   ]
  },
  {
   "cell_type": "code",
   "execution_count": 338,
   "id": "0111018a",
   "metadata": {},
   "outputs": [],
   "source": [
    "im5,denoise5,E,F,G,H=main(wavelet,2)"
   ]
  },
  {
   "cell_type": "code",
   "execution_count": null,
   "id": "2fdbad44",
   "metadata": {},
   "outputs": [],
   "source": [
    "x = range(0,10)\n",
    "plt.plot(x, a,label=\"median filter\")\n",
    "plt.plot(x, e,label=\"mean filter\")\n",
    "plt.plot(x, i,label=\"combined filter\")\n",
    "plt.plot(x, A,label=\"Low Pass filter\")\n",
    "plt.plot(x, E,label=\"Wavelet filter\")\n",
    "plt.legend()\n",
    "plt.title('RMSE')\n",
    "plt.grid(True)\n",
    "plt.show()"
   ]
  },
  {
   "cell_type": "code",
   "execution_count": 323,
   "id": "5c39f373",
   "metadata": {},
   "outputs": [
    {
     "data": {
      "image/png": "[encoded data removed]",
      "text/plain": [
       "<Figure size 432x288 with 1 Axes>"
      ]
     },
     "metadata": {
      "needs_background": "light"
     },
     "output_type": "display_data"
    }
   ],
   "source": [
    "x = range(0,10)\n",
    "plt.plot(x, b,label=\"median filter\")\n",
    "plt.plot(x, f,label=\"mean filter\")\n",
    "plt.plot(x, j,label=\"combined filter\")\n",
    "plt.plot(x, B,label=\"Low Pass filter\")\n",
    "plt.plot(x, F,label=\"Wavelet filter\")\n",
    "plt.legend()\n",
    "plt.title('NRMSE')\n",
    "plt.grid(True)\n",
    "plt.show()"
   ]
  },
  {
   "cell_type": "code",
   "execution_count": 325,
   "id": "bf197844",
   "metadata": {},
   "outputs": [
    {
     "data": {
      "image/png": "[encoded data removed]",
      "text/plain": [
       "<Figure size 432x288 with 1 Axes>"
      ]
     },
     "metadata": {
      "needs_background": "light"
     },
     "output_type": "display_data"
    }
   ],
   "source": [
    "x = range(0,10)\n",
    "plt.plot(x, c,label=\"median filter\")\n",
    "plt.plot(x, g,label=\"mean filter\")\n",
    "plt.plot(x, k,label=\"combined filter\")\n",
    "plt.plot(x, C,label=\"Low Pass filter\")\n",
    "plt.plot(x, G,label=\"Wavelet filter\")\n",
    "plt.legend()\n",
    "plt.title('SNR')\n",
    "plt.grid(True)\n",
    "plt.show()"
   ]
  },
  {
   "cell_type": "code",
   "execution_count": 326,
   "id": "78075554",
   "metadata": {},
   "outputs": [
    {
     "data": {
      "image/png": "[encoded data removed]",
      "text/plain": [
       "<Figure size 432x288 with 1 Axes>"
      ]
     },
     "metadata": {
      "needs_background": "light"
     },
     "output_type": "display_data"
    }
   ],
   "source": [
    "x = range(0,10)\n",
    "plt.plot(x, d,label=\"median filter\")\n",
    "plt.plot(x, h,label=\"mean filter\")\n",
    "plt.plot(x, l,label=\"combined filter\")\n",
    "plt.plot(x, D,label=\"Low Pass filter\")\n",
    "plt.plot(x, H,label=\"Wavelet filter\")\n",
    "plt.legend()\n",
    "plt.title('PSNR')\n",
    "plt.grid(True)\n",
    "plt.show()"
   ]
  },
  {
   "cell_type": "code",
   "execution_count": null,
   "id": "1011d00a",
   "metadata": {},
   "outputs": [],
   "source": []
  }
 ],
 "metadata": {
  "kernelspec": {
   "display_name": "Python 3 (ipykernel)",
   "language": "python",
   "name": "python3"
  },
  "language_info": {
   "codemirror_mode": {
    "name": "ipython",
    "version": 3
   },
   "file_extension": ".py",
   "mimetype": "text/x-python",
   "name": "python",
   "nbconvert_exporter": "python",
   "pygments_lexer": "ipython3",
   "version": "3.9.12"
  }
 },
 "nbformat": 4,
 "nbformat_minor": 5
}
